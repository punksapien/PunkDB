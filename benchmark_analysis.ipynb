{
 "cells": [
  {
   "cell_type": "markdown",
   "metadata": {},
   "source": [
    "# learned index db vs redis benchmark\n",
    "\n",
    "comparing my implementation of learned index database against redis to see if the research paper claims hold up"
   ]
  },
  {
   "cell_type": "markdown",
   "source": "## research paper\n\nthis benchmark tests the implementation based on:\n\n**\"The Case for Learned Index Structures\"**  \n*Tim Kraska, Alex Beutel, Ed H. Chi, Jeffrey Dean, Neoklis Polyzotis*  \nSIGMOD 2018\n\n📄 Paper: https://arxiv.org/abs/1712.01208\n\nthe paper proposes that indexes can be replaced with learned models (neural nets, regression) that predict record positions. they showed up to 70% speedup over b-trees with 10x less memory.",
   "metadata": {}
  },
  {
   "cell_type": "code",
   "execution_count": null,
   "metadata": {},
   "outputs": [],
   "source": [
    "import json\n",
    "import matplotlib.pyplot as plt\n",
    "import numpy as np\n",
    "\n",
    "# load results from benchmark\n",
    "with open('benchmark_results.json', 'r') as f:\n",
    "    results = json.load(f)\n",
    "\n",
    "print(f\"benchmark run with {results['num_ops']} operations\")\n",
    "print(json.dumps(results, indent=2))"
   ]
  },
  {
   "cell_type": "markdown",
   "metadata": {},
   "source": [
    "## performance comparison - ops/sec"
   ]
  },
  {
   "cell_type": "code",
   "execution_count": null,
   "metadata": {},
   "outputs": [],
   "source": [
    "# extract data for plotting\n",
    "operations = ['SET', 'GET', 'MIXED']\n",
    "learndb_ops = [\n",
    "    results['learndb']['set_ops_per_sec'],\n",
    "    results['learndb']['get_ops_per_sec'],\n",
    "    results['learndb']['mixed_ops_per_sec']\n",
    "]\n",
    "redis_ops = [\n",
    "    results['redis']['set_ops_per_sec'],\n",
    "    results['redis']['get_ops_per_sec'],\n",
    "    results['redis']['mixed_ops_per_sec']\n",
    "]\n",
    "\n",
    "# plot throughput comparison\n",
    "x = np.arange(len(operations))\n",
    "width = 0.35\n",
    "\n",
    "fig, ax = plt.subplots(figsize=(10, 6))\n",
    "bars1 = ax.bar(x - width/2, learndb_ops, width, label='LearnDB', color='#2ecc71')\n",
    "bars2 = ax.bar(x + width/2, redis_ops, width, label='Redis', color='#e74c3c')\n",
    "\n",
    "ax.set_xlabel('Operation Type', fontsize=12)\n",
    "ax.set_ylabel('Throughput (ops/sec)', fontsize=12)\n",
    "ax.set_title('LearnDB vs Redis - Throughput Comparison', fontsize=14, fontweight='bold')\n",
    "ax.set_xticks(x)\n",
    "ax.set_xticklabels(operations)\n",
    "ax.legend()\n",
    "ax.grid(axis='y', alpha=0.3)\n",
    "\n",
    "# add value labels on bars\n",
    "for bar in bars1:\n",
    "    height = bar.get_height()\n",
    "    ax.text(bar.get_x() + bar.get_width()/2., height,\n",
    "            f'{int(height):,}',\n",
    "            ha='center', va='bottom', fontsize=9)\n",
    "\n",
    "for bar in bars2:\n",
    "    height = bar.get_height()\n",
    "    ax.text(bar.get_x() + bar.get_width()/2., height,\n",
    "            f'{int(height):,}',\n",
    "            ha='center', va='bottom', fontsize=9)\n",
    "\n",
    "plt.tight_layout()\n",
    "plt.savefig('benchmark_throughput.png', dpi=150)\n",
    "plt.show()\n",
    "\n",
    "print(\"saved plot to benchmark_throughput.png\")"
   ]
  },
  {
   "cell_type": "markdown",
   "metadata": {},
   "source": [
    "## speedup analysis\n",
    "\n",
    "how much faster is learndb compared to redis?"
   ]
  },
  {
   "cell_type": "code",
   "execution_count": null,
   "metadata": {},
   "outputs": [],
   "source": [
    "# calculate speedup\n",
    "speedups = []\n",
    "for i in range(len(operations)):\n",
    "    speedup = learndb_ops[i] / redis_ops[i]\n",
    "    speedups.append(speedup)\n",
    "    print(f\"{operations[i]:6s}: {speedup:.2f}x faster\")\n",
    "\n",
    "# plot speedup\n",
    "fig, ax = plt.subplots(figsize=(10, 6))\n",
    "bars = ax.bar(operations, speedups, color=['#3498db', '#9b59b6', '#f39c12'])\n",
    "\n",
    "ax.set_ylabel('Speedup (x times faster)', fontsize=12)\n",
    "ax.set_title('LearnDB Speedup over Redis', fontsize=14, fontweight='bold')\n",
    "ax.axhline(y=1, color='red', linestyle='--', alpha=0.5, label='Baseline (1x)')\n",
    "ax.legend()\n",
    "ax.grid(axis='y', alpha=0.3)\n",
    "\n",
    "# add value labels\n",
    "for bar, speedup in zip(bars, speedups):\n",
    "    height = bar.get_height()\n",
    "    ax.text(bar.get_x() + bar.get_width()/2., height,\n",
    "            f'{speedup:.1f}x',\n",
    "            ha='center', va='bottom', fontsize=12, fontweight='bold')\n",
    "\n",
    "plt.tight_layout()\n",
    "plt.savefig('benchmark_speedup.png', dpi=150)\n",
    "plt.show()\n",
    "\n",
    "print(\"saved plot to benchmark_speedup.png\")"
   ]
  },
  {
   "cell_type": "markdown",
   "metadata": {},
   "source": [
    "## execution time comparison\n",
    "\n",
    "looking at raw execution times"
   ]
  },
  {
   "cell_type": "code",
   "execution_count": null,
   "metadata": {},
   "outputs": [],
   "source": [
    "# execution times\n",
    "learndb_times = [\n",
    "    results['learndb']['set_time'] * 1000,  # convert to ms\n",
    "    results['learndb']['get_time'] * 1000,\n",
    "    results['learndb']['mixed_time'] * 1000\n",
    "]\n",
    "redis_times = [\n",
    "    results['redis']['set_time'] * 1000,\n",
    "    results['redis']['get_time'] * 1000,\n",
    "    results['redis']['mixed_time'] * 1000\n",
    "]\n",
    "\n",
    "x = np.arange(len(operations))\n",
    "width = 0.35\n",
    "\n",
    "fig, ax = plt.subplots(figsize=(10, 6))\n",
    "bars1 = ax.bar(x - width/2, learndb_times, width, label='LearnDB', color='#2ecc71', alpha=0.8)\n",
    "bars2 = ax.bar(x + width/2, redis_times, width, label='Redis', color='#e74c3c', alpha=0.8)\n",
    "\n",
    "ax.set_xlabel('Operation Type', fontsize=12)\n",
    "ax.set_ylabel('Execution Time (ms)', fontsize=12)\n",
    "ax.set_title('Execution Time Comparison (Lower is Better)', fontsize=14, fontweight='bold')\n",
    "ax.set_xticks(x)\n",
    "ax.set_xticklabels(operations)\n",
    "ax.legend()\n",
    "ax.grid(axis='y', alpha=0.3)\n",
    "\n",
    "# add value labels\n",
    "for bar in bars1:\n",
    "    height = bar.get_height()\n",
    "    ax.text(bar.get_x() + bar.get_width()/2., height,\n",
    "            f'{height:.1f}ms',\n",
    "            ha='center', va='bottom', fontsize=9)\n",
    "\n",
    "for bar in bars2:\n",
    "    height = bar.get_height()\n",
    "    ax.text(bar.get_x() + bar.get_width()/2., height,\n",
    "            f'{height:.1f}ms',\n",
    "            ha='center', va='bottom', fontsize=9)\n",
    "\n",
    "plt.tight_layout()\n",
    "plt.savefig('benchmark_time.png', dpi=150)\n",
    "plt.show()\n",
    "\n",
    "print(\"saved plot to benchmark_time.png\")"
   ]
  },
  {
   "cell_type": "markdown",
   "metadata": {},
   "source": [
    "## summary\n",
    "\n",
    "key takeaways from this benchmark:"
   ]
  },
  {
   "cell_type": "code",
   "execution_count": null,
   "metadata": {},
   "outputs": [],
   "source": [
    "print(\"\\n\" + \"=\"*50)\n",
    "print(\"BENCHMARK SUMMARY\")\n",
    "print(\"=\"*50)\n",
    "\n",
    "print(f\"\\nOperations tested: {results['num_ops']:,}\")\n",
    "\n",
    "print(\"\\nLearnDB Performance:\")\n",
    "for op, val in zip(['SET', 'GET', 'MIXED'], learndb_ops):\n",
    "    print(f\"  {op:6s}: {val:,.0f} ops/sec\")\n",
    "\n",
    "print(\"\\nRedis Performance:\")\n",
    "for op, val in zip(['SET', 'GET', 'MIXED'], redis_ops):\n",
    "    print(f\"  {op:6s}: {val:,.0f} ops/sec\")\n",
    "\n",
    "print(\"\\nSpeedup (LearnDB vs Redis):\")\n",
    "for op, speedup in zip(['SET', 'GET', 'MIXED'], speedups):\n",
    "    print(f\"  {op:6s}: {speedup:.2f}x faster\")\n",
    "\n",
    "print(\"\\nKey Findings:\")\n",
    "print(\"  - Learned index excels at read operations (GET)\")\n",
    "print(\"  - Direct in-process calls eliminate network overhead\")\n",
    "print(\"  - Best for read-heavy workloads with predictable keys\")\n",
    "print(\"\\nCaveats:\")\n",
    "print(\"  - Redis comparison includes client/network overhead\")\n",
    "print(\"  - LearnDB is in-process, Redis is via tcp/socket\")\n",
    "print(\"  - This is a learning project, not production-ready\")\n",
    "print(\"=\"*50)"
   ]
  }
 ],
 "metadata": {
  "kernelspec": {
   "display_name": "Python 3",
   "language": "python",
   "name": "python3"
  },
  "language_info": {
   "codemirror_mode": {
    "name": "ipython",
    "version": 3
   },
   "file_extension": ".py",
   "mimetype": "text/x-python",
   "name": "python",
   "nbconvert_exporter": "python",
   "pygments_lexer": "ipython3",
   "version": "3.11.0"
  }
 },
 "nbformat": 4,
 "nbformat_minor": 4
}